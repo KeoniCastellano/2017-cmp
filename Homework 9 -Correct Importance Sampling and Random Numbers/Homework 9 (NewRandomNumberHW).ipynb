{
 "cells": [
  {
   "cell_type": "code",
   "execution_count": 22,
   "metadata": {},
   "outputs": [],
   "source": [
    "'''\n",
    "Base Random Number Generator on which Other Programs are Based On\n",
    "'''\n",
    "import time\n",
    "def myRand():\n",
    "    #x = time.localtime()\n",
    "    a = 16807\n",
    "    c = 0\n",
    "    m = 2147483647\n",
    "    t_yr = x[0]%1000\n",
    "    t_mon = x[1]\n",
    "    t_day = x[2]\n",
    "    t_hr = x[3]\n",
    "    t_min = x[4]\n",
    "    t_sec = x[5]\n",
    "    seed = t_yr + 70*(t_mon + 12*(t_day + 31*(t_hr + 23*(t_min + 59*t_sec))))\n",
    "    x = 1\n",
    "    return (a*x+c)%m"
   ]
  },
  {
   "cell_type": "code",
   "execution_count": 145,
   "metadata": {},
   "outputs": [],
   "source": [
    "'''\n",
    "Part A.\n",
    "This program was an attempt to calculate double dice rolls, but only works when we run the function one at a time.\n",
    "'''\n",
    "def diceRoll(N):\n",
    "    a = 16807\n",
    "    c = 0\n",
    "    m = 2147483647\n",
    "    \n",
    "    for i in range(N):\n",
    "        x = time.localtime()\n",
    "        t_yr = x[0]%1000\n",
    "        t_mon = x[1]\n",
    "        t_day = x[2]\n",
    "        t_hr = x[3]\n",
    "        t_min = x[4]\n",
    "        t_sec = x[5]\n",
    "        seed1 = t_yr + 70*(t_mon + 12*(t_day + 31*(t_hr + 23*(t_min + 59*t_sec))))\n",
    "        s = (a*seed1+c)%m\n",
    "        t = (a*s+c)%m\n",
    "        print(s%6 + 1, t%6 + 1)"
   ]
  },
  {
   "cell_type": "code",
   "execution_count": 141,
   "metadata": {},
   "outputs": [
    {
     "name": "stdout",
     "output_type": "stream",
     "text": [
      "6 1\n"
     ]
    }
   ],
   "source": [
    "diceRoll(1)"
   ]
  },
  {
   "cell_type": "code",
   "execution_count": 142,
   "metadata": {},
   "outputs": [
    {
     "name": "stdout",
     "output_type": "stream",
     "text": [
      "5 1\n"
     ]
    }
   ],
   "source": [
    "diceRoll(1)"
   ]
  },
  {
   "cell_type": "code",
   "execution_count": 143,
   "metadata": {},
   "outputs": [
    {
     "name": "stdout",
     "output_type": "stream",
     "text": [
      "3 1\n"
     ]
    }
   ],
   "source": [
    "diceRoll(1)"
   ]
  },
  {
   "cell_type": "code",
   "execution_count": 144,
   "metadata": {},
   "outputs": [
    {
     "name": "stdout",
     "output_type": "stream",
     "text": [
      "3 1\n",
      "3 1\n",
      "3 1\n"
     ]
    }
   ],
   "source": [
    "diceRoll(3)"
   ]
  },
  {
   "cell_type": "markdown",
   "metadata": {},
   "source": [
    "Tried to create a random number generator for the dice rolls myself. Did not work correctly. Will just use numpy..."
   ]
  },
  {
   "cell_type": "code",
   "execution_count": 174,
   "metadata": {},
   "outputs": [],
   "source": [
    "'''\n",
    "Part A. New program to generate double dice rolls\n",
    "'''\n",
    "\n",
    "import numpy as np\n",
    "\n",
    "def dDiceRoll():\n",
    "    x = []\n",
    "    a=np.random.randint(1,7,1)\n",
    "    b=np.random.randint(1,7,1)\n",
    "    x.append(a[0])\n",
    "    x.append(b[0])\n",
    "    return x\n"
   ]
  },
  {
   "cell_type": "code",
   "execution_count": 187,
   "metadata": {},
   "outputs": [
    {
     "data": {
      "text/plain": [
       "[5, 2]"
      ]
     },
     "execution_count": 187,
     "metadata": {},
     "output_type": "execute_result"
    }
   ],
   "source": [
    "dDiceRoll()"
   ]
  },
  {
   "cell_type": "code",
   "execution_count": 229,
   "metadata": {},
   "outputs": [],
   "source": [
    "'''\n",
    "Part B.\n",
    "Counting double sixes\n",
    "'''\n",
    "\n",
    "def countTwoSix(N):\n",
    "    count = 0\n",
    "    for i in range(N):\n",
    "        x = dDiceRoll()\n",
    "        if x[0]== 6 and x[1]==6:\n",
    "            count +=1\n",
    "    return(count)"
   ]
  },
  {
   "cell_type": "code",
   "execution_count": 234,
   "metadata": {},
   "outputs": [
    {
     "name": "stdout",
     "output_type": "stream",
     "text": [
      "The probability of getting double sixes is 0.0277\n"
     ]
    }
   ],
   "source": [
    "N0 = 1000000\n",
    "N1 = countTwoSix(N0)\n",
    "print(\"The probability of getting double sixes is %.4f\" %(N1/N0))"
   ]
  },
  {
   "cell_type": "code",
   "execution_count": 18,
   "metadata": {},
   "outputs": [
    {
     "data": {
      "image/png": "[encoded data removed]",
      "text/plain": [
       "<Figure size 432x288 with 1 Axes>"
      ]
     },
     "metadata": {},
     "output_type": "display_data"
    },
    {
     "data": {
      "image/png": "[encoded data removed]",
      "text/plain": [
       "<Figure size 432x288 with 1 Axes>"
      ]
     },
     "metadata": {},
     "output_type": "display_data"
    }
   ],
   "source": [
    "'''\n",
    "Part C.\n",
    "Generating random numbers on [-5,5]\n",
    "'''\n",
    "\n",
    "import matplotlib.pyplot as plt\n",
    "\n",
    "N = 100\n",
    "a = 57\n",
    "c = 252\n",
    "m = 11 \n",
    "x = 7\n",
    "results = []\n",
    "\n",
    "for i in range(N):      \n",
    "    x = (a*x+c)%m - 5\n",
    "    results.append(x)\n",
    "plt.plot(results,\"o\")\n",
    "plt.show()\n",
    "\n",
    "plt.hist(results)\n",
    "plt.show()"
   ]
  },
  {
   "cell_type": "markdown",
   "metadata": {},
   "source": [
    "It looks pretty random..."
   ]
  },
  {
   "cell_type": "code",
   "execution_count": null,
   "metadata": {},
   "outputs": [],
   "source": []
  }
 ],
 "metadata": {
  "kernelspec": {
   "display_name": "Python 3",
   "language": "python",
   "name": "python3"
  },
  "language_info": {
   "codemirror_mode": {
    "name": "ipython",
    "version": 3
   },
   "file_extension": ".py",
   "mimetype": "text/x-python",
   "name": "python",
   "nbconvert_exporter": "python",
   "pygments_lexer": "ipython3",
   "version": "3.6.5"
  }
 },
 "nbformat": 4,
 "nbformat_minor": 2
}
