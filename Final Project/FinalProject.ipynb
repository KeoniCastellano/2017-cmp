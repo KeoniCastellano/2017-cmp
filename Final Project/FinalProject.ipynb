{
 "cells": [
  {
   "cell_type": "markdown",
   "metadata": {},
   "source": [
    "# Gaussian Quadrature #"
   ]
  },
  {
   "cell_type": "markdown",
   "metadata": {},
   "source": [
    "## Introduction ##"
   ]
  },
  {
   "cell_type": "markdown",
   "metadata": {},
   "source": [
    "Gaussian quadrature is a method of numerical integration that aims to be more precise than the rectangle, trapezoidal, or the Simpson method of integration. Similar to Simpson's Rule, the method of Gaussian Quadrature for integrating a function is a sum of weighted function values at specific points, called nodes, that lie on the x-axis. Mathematically, if we want to integrate a function on the interval $[-1,1]$, it is given by:\n",
    "$$ \\int_{-1}^{1}f(x)\\thinspace dx = \\sum_{k=1}^n\\omega_kf(x_k).$$\n",
    "The key difference between Simpson's Rule and Gaussian Quadrature is that, in Simpson's rule, the nodes have to be spaced evenly, while in Gaussian Quadrature they do not. In fact, Gaussian Quadrature is more accurate if we do not use evenly spaced nodes.\n",
    "\n",
    "In Gaussian Quadrature, there are also no restrictions placed on the nodes or the weights of those nodes. As long as the sum gives an exact answer for high-degree polynomials, it can be assumed that it will work for functions that can be approximated as polynomials.\n",
    "\n",
    "Also, technically the method of Gaussian Quadrature only works on the interval $[-1,1]$. However, if we wanted to integrate on the general inteval $[\\alpha, \\beta]$, we can make an appropriate change of variables to shift from $[\\alpha, \\beta]$ to $[-1,1]$."
   ]
  },
  {
   "cell_type": "markdown",
   "metadata": {},
   "source": [
    "## Goal ##"
   ]
  },
  {
   "cell_type": "markdown",
   "metadata": {},
   "source": [
    "Trigonometric functions on certain intervals can be approximated as a polynomial of high degree. Therefore, a good test would be to apply the method of Gaussian Quadrature to integrate a function like $f(x) = \\tan(x^2)$ over the interval $[0,1]$. In code the function is"
   ]
  },
  {
   "cell_type": "code",
   "execution_count": 6,
   "metadata": {},
   "outputs": [],
   "source": [
    "import numpy as np\n",
    "\n",
    "def f(x):\n",
    "    return np.tan(x**2)"
   ]
  },
  {
   "cell_type": "markdown",
   "metadata": {},
   "source": [
    "and the graph looks like"
   ]
  },
  {
   "cell_type": "code",
   "execution_count": 7,
   "metadata": {},
   "outputs": [
    {
     "data": {
      "image/png": "[encoded data removed]",
      "text/plain": [
       "<Figure size 432x288 with 1 Axes>"
      ]
     },
     "metadata": {},
     "output_type": "display_data"
    }
   ],
   "source": [
    "import matplotlib.pyplot as plt\n",
    "\n",
    "x = np.linspace(0,1,1000)\n",
    "y = f(x)\n",
    "\n",
    "plt.plot(x,y)\n",
    "plt.title(\"Graph of Region to be Integrated\")\n",
    "plt.ylabel(\"tan($x^2$)\")\n",
    "plt.xlabel(\"x\")\n",
    "plt.show()"
   ]
  },
  {
   "cell_type": "markdown",
   "metadata": {},
   "source": [
    "## Method ##"
   ]
  },
  {
   "cell_type": "markdown",
   "metadata": {},
   "source": [
    "### Preliminaries ###"
   ]
  },
  {
   "cell_type": "markdown",
   "metadata": {},
   "source": [
    "Let us first form the theory behind Gaussian Quadrature before we actually do any integration. \n",
    "\n",
    "We want to integrate some function $f(x)$ on the interval $[-1,1]$.The theory tells us that we can get a numerical value for the definite integral by considering a weighted sum of the function evaluated at certain nodes. That is\n",
    "$$ \\int_{-1}^{1}f(x)\\thinspace dx = \\sum_{k=1}^n\\omega_kf(x_k).$$\n",
    "\n",
    "The only caveat for the choice of node and corresponding weight is that it must be accurate for as high degree a polynomial as possible. \n",
    "\n",
    "Since we are considering a sum over $n$ nodes, there are $2n$ unknowns to solve for. Hence, we will choose our Gaussian Quadrature to be accurate for a polynomial of degree up to $2n-1$.\n",
    "\n",
    "So we must have that\n",
    "\\begin{equation}\n",
    " \\int_{-1}^{1}x^m\\thinspace dx = \\sum_{k=1}^n\\omega_kf(x_k) = \\omega_1x_1^m + \\omega_2x_2^m + \\omega_3x_3^m + ... + \\omega_nx_n^m \\tag{1}\n",
    " \\end{equation}\n",
    "for $m=0,1,2,3,4,...,2n-1$.\n",
    "\n",
    "If $m$ is odd, then the integral is 0 since we are integrating over a symmetric integral. If $m$ is even, then \n",
    "$$ \\int_{-1}^{1}x^m\\thinspace dx = 2\\int_0^1x^m\\thinspace dx = \\frac{2x^{m+1}}{m+1}\\bigg|_0^1 = \\frac{2}{m+1}.$$\n",
    "More succintly,\n",
    "$$ \\int_{-1}^{1}x^m\\thinspace dx = \n",
    "\\begin{array}{cc}\n",
    "  \\bigg\\{ & \n",
    "    \\begin{array}{cc}\n",
    "      0 & \\text{m is odd} \\\\\n",
    "      \\frac{2}{m+1} & \\text{m is even} \\\\\n",
    "    \\end{array}\n",
    "\\end{array}.\n",
    "$$\n",
    "\n",
    "Equation $(1)$ is actually a system of $2n$ equations with $2n$ unknowns so, theoretically, we could potentially solve for $\\omega_i$ and $x_i$. \n",
    "\n",
    "However, we can make the process simpler."
   ]
  },
  {
   "cell_type": "markdown",
   "metadata": {},
   "source": [
    "### Simplification ###\n"
   ]
  },
  {
   "cell_type": "markdown",
   "metadata": {},
   "source": [
    "As it turns out, on the interval $[-1,1]$, it is very useful to utilize the Legendre polynomials to assist in searching for the weights.\n",
    "\n",
    "An efficient way to find the nodes is to just use the roots of the n$^\\text{th}$-degree Legendre polynomial, $P_n(x)$. In fact, the roots of the Legendre polynomial provide the exactness of $2n-1$, the maximum degree that we originally wanted.\n",
    "\n",
    "Knowing that we can use the roots of Legendre polynomials for our nodes, it turns out that we can generate the weights by using the formula\n",
    "$$\\omega_i = \\frac{2}{\\left(1-x_i^2\\right)\\left[P'_n(x_i)\\right]^2}.$$"
   ]
  },
  {
   "cell_type": "markdown",
   "metadata": {},
   "source": [
    "## Implementation ##"
   ]
  },
  {
   "cell_type": "markdown",
   "metadata": {},
   "source": [
    "We will now implement the above mathematical theory to create a function that can evaluate an integral over the integral $[-1,1]$ using Gaussian Quadrature. For the implementation we will integrate the basic function $g(x) = cos(x)$."
   ]
  },
  {
   "cell_type": "code",
   "execution_count": 8,
   "metadata": {},
   "outputs": [],
   "source": [
    "def g(x):\n",
    "    return np.cos(x)"
   ]
  },
  {
   "cell_type": "markdown",
   "metadata": {},
   "source": [
    "The Legendre polynomials can be called using SciPy. For example, the fifth order Legendre polynomial is"
   ]
  },
  {
   "cell_type": "code",
   "execution_count": 9,
   "metadata": {},
   "outputs": [
    {
     "name": "stdout",
     "output_type": "stream",
     "text": [
      "       5        3             2\n",
      "7.875 x - 8.75 x - 4.372e-16 x + 1.875 x\n"
     ]
    }
   ],
   "source": [
    "import scipy.special as sp\n",
    "\n",
    "print(sp.legendre(5))"
   ]
  },
  {
   "cell_type": "markdown",
   "metadata": {},
   "source": [
    "Or knowing that the $0^{th}$ order Legendre polynomial is 1. We may use the recursive formula for Legendre Polynomials\n",
    "$$(n+1)P_{n+1} = (2n+1)xP_n - nP_{n-1}$$\n",
    "with $P_0 = 1$ and $P_1 = x$. "
   ]
  },
  {
   "cell_type": "markdown",
   "metadata": {},
   "source": [
    "There is a similar recursion relation used to solve for the derivative of a Legendre Polynomial\n",
    "$$(x^2-1)P'_n = nxP_n - nP_{n-1}.$$"
   ]
  },
  {
   "cell_type": "markdown",
   "metadata": {},
   "source": [
    "We will also use Newton's method to find the roots of the Legendre Polynomials.\n",
    "$$x_{n+1} = x_n - \\frac{f(x_n)}{f'(x_n)}$$"
   ]
  },
  {
   "cell_type": "code",
   "execution_count": 10,
   "metadata": {},
   "outputs": [],
   "source": [
    "import scipy\n",
    "def GaussQuad(f,n):\n",
    "    \n",
    "    #Initial Approximations for Roots of Legendre Polynomial\n",
    "    x = np.zeros(n,float)\n",
    "    for i in range(n):\n",
    "        x[i] = (1-(1/(8*n**2))+(1/(8*n**3)))*(np.cos((np.pi*(4*i-1))/(4*n+2)))\n",
    "    \n",
    "    #Initial Approximation from Lecture 5 Code\n",
    "    #c = np.linspace(3,4*n-1,n)/(4*n+2)\n",
    "    #x = np.cos(np.pi*a+1/(8*n*n*np.tan(a)))\n",
    "        \n",
    "    # Find roots using Newton's method\n",
    "    # From Lecture 5\n",
    "    epsilon = 1e-15\n",
    "    delta = 1.0\n",
    "    while delta>epsilon:\n",
    "        p0 = np.ones(n,float)\n",
    "        p1 = np.copy(x)\n",
    "        for k in range(1,n):\n",
    "            '''\n",
    "            p2 = ((2*k+1)*x*p1-k*p0)/(k+1)\n",
    "            p0 = p1\n",
    "            p1 = p2\n",
    "            '''\n",
    "            p0,p1 = p1,((2*k+1)*x*p1-k*p0)/(k+1)\n",
    "            \n",
    "        dp = (n+1)*(p0-x*p1)/(1-x*x)\n",
    "        dx = p1/dp\n",
    "        x -= dx\n",
    "        delta = max(abs(dx))\n",
    "    w = 2/((1-x**2)*dp*dp)\n",
    "    return np.dot(f(x),w)\n",
    "    \n",
    "    "
   ]
  },
  {
   "cell_type": "code",
   "execution_count": 11,
   "metadata": {},
   "outputs": [
    {
     "name": "stdout",
     "output_type": "stream",
     "text": [
      "1.682605431703398\n"
     ]
    }
   ],
   "source": [
    "#x,w = GaussQuad(g,10000)\n",
    "print(GaussQuad(g,10000))"
   ]
  },
  {
   "cell_type": "markdown",
   "metadata": {},
   "source": [
    "## General Interval ##"
   ]
  },
  {
   "cell_type": "markdown",
   "metadata": {},
   "source": [
    "If we want to integrate a function on the more general interval $[\\alpha, \\beta]$. Then we have to make a variable transformation:\n",
    "$$\\int_\\alpha^\\beta f(x)\\thinspace dx = \n",
    "\\frac{\\beta-\\alpha}{2}\\sum_{k=1}^n \\omega_k f\\left(\\frac{\\beta-\\alpha}{2}x_k + \\frac{\\beta+\\alpha}{2}\\right)$$\n",
    "where $\\omega_i$ and $x_i$ are the weights and nodes defined above."
   ]
  },
  {
   "cell_type": "code",
   "execution_count": 12,
   "metadata": {},
   "outputs": [],
   "source": [
    "def g(x):\n",
    "    return np.cos(x)\n",
    "\n",
    "def GenGaussQuad(f,n,a,b):\n",
    "    #Initial Approximations for Roots of Legendre Polynomial\n",
    "    x = np.zeros(n,float)\n",
    "    for i in range(n):\n",
    "        x[i] = (1-(1/(8*n**2))+(1/(8*n**3)))*(np.cos((np.pi*(4*i-1))/(4*n+2)))\n",
    "    \n",
    "    #Initial Approximation from Lecture 5 Code\n",
    "    #c = np.linspace(3,4*n-1,n)/(4*n+2)\n",
    "    #x = np.cos(np.pi*a+1/(8*n*n*np.tan(a)))\n",
    "        \n",
    "    # Find roots using Newton's method\n",
    "    # From Lecture 5\n",
    "    epsilon = 1e-15\n",
    "    delta = 1.0\n",
    "    while delta>epsilon:\n",
    "        p0 = np.ones(n,float)\n",
    "        p1 = np.copy(x)\n",
    "        for k in range(1,n):\n",
    "            '''\n",
    "            p2 = ((2*k+1)*x*p1-k*p0)/(k+1)\n",
    "            p0 = p1\n",
    "            p1 = p2\n",
    "            '''\n",
    "            p0,p1 = p1,((2*k+1)*x*p1-k*p0)/(k+1)\n",
    "            \n",
    "        dp = (n+1)*(p0-x*p1)/(1-x*x)\n",
    "        dx = p1/dp\n",
    "        x -= dx\n",
    "        delta = max(abs(dx))\n",
    "    w = 2/((1-x**2)*dp*dp)\n",
    "    h = 1.0*b - 1.0*a\n",
    "    z = 1.0*b + 1.0*a\n",
    "    b = (0.5*h*x) + (z*0.5)\n",
    "    num = np.dot(f(b),w)\n",
    "    answer = h*num*0.5\n",
    "    return answer"
   ]
  },
  {
   "cell_type": "code",
   "execution_count": 13,
   "metadata": {},
   "outputs": [
    {
     "name": "stdout",
     "output_type": "stream",
     "text": [
      "0.8413026988002812\n"
     ]
    }
   ],
   "source": [
    "print(GenGaussQuad(g,10000, 0,1))"
   ]
  },
  {
   "cell_type": "markdown",
   "metadata": {},
   "source": [
    "Now we can integrate our goal function $f(x) = tan(x^2)$ on $[0,1]$."
   ]
  },
  {
   "cell_type": "code",
   "execution_count": 14,
   "metadata": {},
   "outputs": [
    {
     "name": "stdout",
     "output_type": "stream",
     "text": [
      "0.39833483142750437\n"
     ]
    }
   ],
   "source": [
    "print(GenGaussQuad(f,10000,0,1))"
   ]
  },
  {
   "cell_type": "markdown",
   "metadata": {},
   "source": [
    "## Comparison with Simpson's Rule ##"
   ]
  },
  {
   "cell_type": "code",
   "execution_count": 15,
   "metadata": {},
   "outputs": [],
   "source": [
    "def Simpson(f,start, end, parts):\n",
    "    \"\"\"\n",
    "    Simpson sum rule\n",
    "\n",
    "    \"\"\"\n",
    "    #define the X,Y points\n",
    "    deltax = (end - start) / parts\n",
    "    resultsx = np.linspace(start, end, parts+1)\n",
    "    #resultsx = np.append(resultsx, end+deltax)\n",
    "    resultsy = f(resultsx)\n",
    "\n",
    "    # To calculate the area\n",
    "    area = np.empty([parts+1], float)\n",
    "    for i in range(parts+1):\n",
    "        if i == 0 or i == parts:\n",
    "            coef = 1/3\n",
    "        elif i%2 == 1:\n",
    "            coef = 4/3\n",
    "        else: \n",
    "            coef = 2/3\n",
    "        area[i] = coef*resultsy[i]*deltax\n",
    "        #print(resultsx[i], resultsy[i], coef)\n",
    "\n",
    "\n",
    "    return sum(area)"
   ]
  },
  {
   "cell_type": "code",
   "execution_count": 16,
   "metadata": {
    "scrolled": true
   },
   "outputs": [
    {
     "name": "stdout",
     "output_type": "stream",
     "text": [
      "0.39841444459716596\n"
     ]
    }
   ],
   "source": [
    "print(Simpson(f,0,1,10000))"
   ]
  },
  {
   "cell_type": "markdown",
   "metadata": {},
   "source": [
    "Wolfram Alpha gives the answer to the integral as the one we got using Simpson's Rule"
   ]
  },
  {
   "cell_type": "code",
   "execution_count": 17,
   "metadata": {},
   "outputs": [],
   "source": [
    "import time\n",
    "\n",
    "timesimps = []\n",
    "timegq = []\n",
    "\n",
    "for k in range(10):\n",
    "    t1 = time.time()\n",
    "    Simpson(f,0,1,10000)\n",
    "    t2 = time.time()\n",
    "    timesimps.append(t2-t1)\n",
    "    \n",
    "\n",
    "    "
   ]
  },
  {
   "cell_type": "code",
   "execution_count": 18,
   "metadata": {},
   "outputs": [],
   "source": [
    "for k in range(10):\n",
    "    t1 = time.time()\n",
    "    GenGaussQuad(f,10000,0,1)\n",
    "    t2 = time.time()\n",
    "    timegq.append(t2-t1)"
   ]
  },
  {
   "cell_type": "code",
   "execution_count": 19,
   "metadata": {},
   "outputs": [
    {
     "data": {
      "image/png": "[encoded data removed]",
      "text/plain": [
       "<Figure size 432x288 with 1 Axes>"
      ]
     },
     "metadata": {},
     "output_type": "display_data"
    }
   ],
   "source": [
    "plt.scatter(range(10), timesimps)\n",
    "plt.ylabel(\"Time(s)\")\n",
    "plt.title(\"Time Simpson\")\n",
    "plt.show()"
   ]
  },
  {
   "cell_type": "code",
   "execution_count": 20,
   "metadata": {},
   "outputs": [
    {
     "data": {
      "image/png": "[encoded data removed]",
      "text/plain": [
       "<Figure size 432x288 with 1 Axes>"
      ]
     },
     "metadata": {},
     "output_type": "display_data"
    }
   ],
   "source": [
    "plt.scatter(range(10), timegq)\n",
    "plt.ylabel(\"Time(s)\")\n",
    "plt.title(\"Time Gauss\")\n",
    "plt.show()"
   ]
  },
  {
   "cell_type": "markdown",
   "metadata": {},
   "source": [
    "## References ##"
   ]
  },
  {
   "cell_type": "markdown",
   "metadata": {},
   "source": [
    "Atkinson, K. E. (n.d.). Numerical Integration: Another Approach. Retrieved November 29, 2018, from http://homepage.math.uiowa.edu/~atkinson/ftp/ENA_Materials/Overheads/sec_5-3.pdf"
   ]
  },
  {
   "cell_type": "markdown",
   "metadata": {},
   "source": [
    "Lambers, J. (2009). Gaussian Quadrature. Retrieved December 1, 2018, from http://www.math.usm.edu/lambers/mat460/fall09/lecture31.pdf"
   ]
  },
  {
   "cell_type": "markdown",
   "metadata": {},
   "source": [
    "Recursive Formula for Legendre Polynomials. (2011, February 6). Retrieved December 1, 2018, from http://cacs.usc.edu/education/phys516/RecursiveLegendre.pdf"
   ]
  },
  {
   "cell_type": "markdown",
   "metadata": {},
   "source": [
    "Roots of Legendre Polynomial. (2010, November 29). Retrieved December 1, 2018, from https://math.stackexchange.com/questions/12160/roots-of-legendre-polynomial"
   ]
  },
  {
   "cell_type": "markdown",
   "metadata": {},
   "source": [
    "Weisstein, Eric W. \"Gaussian Quadrature.\" From MathWorld--A Wolfram Web Resource. http://mathworld.wolfram.com/GaussianQuadrature.html"
   ]
  },
  {
   "cell_type": "markdown",
   "metadata": {},
   "source": [
    "Zhu, Q. (2018, October 3). Integrals. Retrieved November 30, 2018, from https://github.com/qzhu2017/2017-cmp/blob/master/Lec_05_integral.ipynb"
   ]
  },
  {
   "cell_type": "code",
   "execution_count": null,
   "metadata": {},
   "outputs": [],
   "source": []
  }
 ],
 "metadata": {
  "kernelspec": {
   "display_name": "Python 3",
   "language": "python",
   "name": "python3"
  },
  "language_info": {
   "codemirror_mode": {
    "name": "ipython",
    "version": 3
   },
   "file_extension": ".py",
   "mimetype": "text/x-python",
   "name": "python",
   "nbconvert_exporter": "python",
   "pygments_lexer": "ipython3",
   "version": "3.6.5"
  }
 },
 "nbformat": 4,
 "nbformat_minor": 2
}
