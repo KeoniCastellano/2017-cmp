{
 "cells": [
  {
   "cell_type": "code",
   "execution_count": 1,
   "metadata": {},
   "outputs": [],
   "source": [
    "from sklearn.neighbors import KNeighborsClassifier\n",
    "estimator = KNeighborsClassifier()"
   ]
  },
  {
   "cell_type": "code",
   "execution_count": 2,
   "metadata": {},
   "outputs": [],
   "source": [
    "'''\n",
    "The data I will use is on the classification of poker hands from here\n",
    "http://archive.ics.uci.edu/ml/datasets/Poker+Hand\n",
    "'''\n",
    "import urllib.request\n",
    "import matplotlib.pyplot as plt\n",
    "import numpy as np\n",
    "\n",
    "req = urllib.request.Request('http://archive.ics.uci.edu/ml/machine-learning-databases/poker/poker-hand-training-true.data')\n",
    "response = urllib.request.urlopen(req)\n",
    "the_page = response.read().decode()\n",
    "\n",
    "Pok = the_page\n"
   ]
  },
  {
   "cell_type": "code",
   "execution_count": 3,
   "metadata": {},
   "outputs": [],
   "source": [
    "'''\n",
    "Here we convert the data set from a string into an array\n",
    "'''\n",
    "NewPok = Pok.split('\\n')\n",
    "for s in NewPok:\n",
    "    s.strip('\\r') # remove the \\r from the string borders\n",
    "for s in NewPok:\n",
    "    s.replace('\\r', '') # remove all the \\rs\n",
    "\n",
    "for i in range(len(NewPok)):\n",
    "    NewPok[i] = np.fromstring(NewPok[i], dtype = int,sep = ',')"
   ]
  },
  {
   "cell_type": "code",
   "execution_count": 4,
   "metadata": {},
   "outputs": [
    {
     "data": {
      "text/plain": [
       "25011"
      ]
     },
     "execution_count": 4,
     "metadata": {},
     "output_type": "execute_result"
    }
   ],
   "source": [
    "NewPok\n",
    "len(NewPok)"
   ]
  },
  {
   "cell_type": "code",
   "execution_count": 6,
   "metadata": {},
   "outputs": [],
   "source": [
    "X = []\n",
    "Y = []\n",
    "for i in range(len(NewPok)-1):\n",
    "    X.append(NewPok[i][:10])\n",
    "    element = NewPok[i][10]\n",
    "    Y.append(element)"
   ]
  },
  {
   "cell_type": "code",
   "execution_count": 7,
   "metadata": {},
   "outputs": [],
   "source": [
    "from sklearn.model_selection import train_test_split\n",
    "\n",
    "X_train, X_test, y_train, y_test = train_test_split(X, Y)"
   ]
  },
  {
   "cell_type": "code",
   "execution_count": 9,
   "metadata": {},
   "outputs": [
    {
     "data": {
      "text/plain": [
       "KNeighborsClassifier(algorithm='auto', leaf_size=30, metric='minkowski',\n",
       "           metric_params=None, n_jobs=None, n_neighbors=5, p=2,\n",
       "           weights='uniform')"
      ]
     },
     "execution_count": 9,
     "metadata": {},
     "output_type": "execute_result"
    }
   ],
   "source": [
    "#estimator.fit(X_train, y_train)"
   ]
  },
  {
   "cell_type": "code",
   "execution_count": 23,
   "metadata": {},
   "outputs": [
    {
     "name": "stderr",
     "output_type": "stream",
     "text": [
      "C:\\Users\\KCast_000\\Miniconda3\\lib\\site-packages\\sklearn\\model_selection\\_split.py:652: Warning: The least populated class in y has only 3 members, which is too few. The minimum number of members in any class cannot be less than n_splits=5.\n",
      "  % (min_groups, self.n_splits)), Warning)\n"
     ]
    },
    {
     "name": "stdout",
     "output_type": "stream",
     "text": [
      "{'mean_fit_time': array([0.07807155, 0.10872355, 0.09454174, 0.11293015, 0.06635942,\n",
      "       0.1181272 , 0.08534517, 0.14751348, 0.11162882, 0.12566724,\n",
      "       0.08903432, 0.09705119, 0.09401946, 0.11992621, 0.08146691,\n",
      "       0.11932578, 0.06715803, 0.12452364, 0.10553565, 0.12092457]), 'std_fit_time': array([0.01687103, 0.02290448, 0.03110513, 0.02435621, 0.02000406,\n",
      "       0.02939952, 0.02649074, 0.01502745, 0.02076712, 0.00897552,\n",
      "       0.03104533, 0.02681917, 0.0183614 , 0.0212174 , 0.04605246,\n",
      "       0.02531849, 0.02015101, 0.03587638, 0.02546948, 0.03418327]), 'mean_score_time': array([1.01296482, 0.44312716, 1.43511763, 0.51914811, 1.17967386,\n",
      "       0.69083014, 1.4812655 , 0.93790402, 2.20193367, 1.01286244,\n",
      "       1.12519407, 0.5810225 , 1.40840192, 0.61302214, 1.98854356,\n",
      "       0.54446502, 1.42342396, 0.91383729, 3.15581741, 1.08384724]), 'std_score_time': array([0.10435966, 0.02841954, 0.29146192, 0.13850663, 0.20369931,\n",
      "       0.201258  , 0.19414193, 0.1052858 , 0.4196365 , 0.16515531,\n",
      "       0.1746387 , 0.13663397, 0.18394726, 0.05656236, 0.8123387 ,\n",
      "       0.04202835, 0.10768678, 0.21731553, 0.55067387, 0.48655503]), 'param_leaf_size': masked_array(data=[30, 30, 30, 30, 30, 30, 30, 30, 30, 30, 100, 100, 100,\n",
      "                   100, 100, 100, 100, 100, 100, 100],\n",
      "             mask=[False, False, False, False, False, False, False, False,\n",
      "                   False, False, False, False, False, False, False, False,\n",
      "                   False, False, False, False],\n",
      "       fill_value='?',\n",
      "            dtype=object), 'param_n_neighbors': masked_array(data=[3, 3, 4, 4, 7, 7, 9, 9, 11, 11, 3, 3, 4, 4, 7, 7, 9, 9,\n",
      "                   11, 11],\n",
      "             mask=[False, False, False, False, False, False, False, False,\n",
      "                   False, False, False, False, False, False, False, False,\n",
      "                   False, False, False, False],\n",
      "       fill_value='?',\n",
      "            dtype=object), 'param_p': masked_array(data=[1.0, 2.0, 1.0, 2.0, 1.0, 2.0, 1.0, 2.0, 1.0, 2.0, 1.0,\n",
      "                   2.0, 1.0, 2.0, 1.0, 2.0, 1.0, 2.0, 1.0, 2.0],\n",
      "             mask=[False, False, False, False, False, False, False, False,\n",
      "                   False, False, False, False, False, False, False, False,\n",
      "                   False, False, False, False],\n",
      "       fill_value='?',\n",
      "            dtype=object), 'params': [{'leaf_size': 30, 'n_neighbors': 3, 'p': 1.0}, {'leaf_size': 30, 'n_neighbors': 3, 'p': 2.0}, {'leaf_size': 30, 'n_neighbors': 4, 'p': 1.0}, {'leaf_size': 30, 'n_neighbors': 4, 'p': 2.0}, {'leaf_size': 30, 'n_neighbors': 7, 'p': 1.0}, {'leaf_size': 30, 'n_neighbors': 7, 'p': 2.0}, {'leaf_size': 30, 'n_neighbors': 9, 'p': 1.0}, {'leaf_size': 30, 'n_neighbors': 9, 'p': 2.0}, {'leaf_size': 30, 'n_neighbors': 11, 'p': 1.0}, {'leaf_size': 30, 'n_neighbors': 11, 'p': 2.0}, {'leaf_size': 100, 'n_neighbors': 3, 'p': 1.0}, {'leaf_size': 100, 'n_neighbors': 3, 'p': 2.0}, {'leaf_size': 100, 'n_neighbors': 4, 'p': 1.0}, {'leaf_size': 100, 'n_neighbors': 4, 'p': 2.0}, {'leaf_size': 100, 'n_neighbors': 7, 'p': 1.0}, {'leaf_size': 100, 'n_neighbors': 7, 'p': 2.0}, {'leaf_size': 100, 'n_neighbors': 9, 'p': 1.0}, {'leaf_size': 100, 'n_neighbors': 9, 'p': 2.0}, {'leaf_size': 100, 'n_neighbors': 11, 'p': 1.0}, {'leaf_size': 100, 'n_neighbors': 11, 'p': 2.0}], 'split0_test_score': array([0.54622968, 0.54622968, 0.56727951, 0.55768718, 0.57314149,\n",
      "       0.56834532, 0.57847056, 0.57314149, 0.59099387, 0.57287503,\n",
      "       0.55182521, 0.54463096, 0.56195044, 0.55688782, 0.5742073 ,\n",
      "       0.56834532, 0.58033573, 0.57314149, 0.58699707, 0.5742073 ]), 'split1_test_score': array([0.54329869, 0.53663736, 0.55768718, 0.55182521, 0.558753  ,\n",
      "       0.55262457, 0.56328271, 0.55822009, 0.56088463, 0.56195044,\n",
      "       0.54196643, 0.53743672, 0.56221689, 0.55155875, 0.55422329,\n",
      "       0.54543032, 0.55955236, 0.56354916, 0.55715428, 0.56141753]), 'split2_test_score': array([0.53503864, 0.52677858, 0.5547562 , 0.55395683, 0.55049294,\n",
      "       0.54569678, 0.55182521, 0.55448974, 0.55662137, 0.55955236,\n",
      "       0.53610445, 0.52757794, 0.56221689, 0.55582201, 0.54916067,\n",
      "       0.54329869, 0.5547562 , 0.56088463, 0.55662137, 0.56301625]), 'split3_test_score': array([0.53345774, 0.5419888 , 0.55611837, 0.56518262, 0.56384964,\n",
      "       0.56225007, 0.56464943, 0.56145028, 0.57584644, 0.57691282,\n",
      "       0.53159158, 0.53878966, 0.55611837, 0.56411624, 0.55665156,\n",
      "       0.56411624, 0.57051453, 0.56411624, 0.57504665, 0.57398027]), 'split4_test_score': array([0.52788898, 0.52175073, 0.55030691, 0.54630371, 0.54630371,\n",
      "       0.54443555, 0.54737123, 0.54576995, 0.55457699, 0.55297571,\n",
      "       0.52842274, 0.52175073, 0.55324259, 0.54630371, 0.54977315,\n",
      "       0.54550307, 0.54576995, 0.54870563, 0.55537764, 0.54923939]), 'mean_test_score': array([0.53718612, 0.53468039, 0.55723197, 0.5549928 , 0.55851149,\n",
      "       0.55467292, 0.56112385, 0.55861812, 0.56778803, 0.56485579,\n",
      "       0.53798582, 0.53404062, 0.55915125, 0.55493949, 0.55680546,\n",
      "       0.55334009, 0.56219012, 0.56208349, 0.56624194, 0.56437597]), 'std_test_score': array([0.00669401, 0.00916653, 0.00559421, 0.00628661, 0.00954839,\n",
      "       0.00931564, 0.01089534, 0.00895689, 0.01378712, 0.00880052,\n",
      "       0.0082853 , 0.00823336, 0.00376063, 0.00591107, 0.00913795,\n",
      "       0.01064121, 0.01208508, 0.00785885, 0.01266163, 0.00925616]), 'rank_test_score': array([18, 19, 11, 13, 10, 15,  7,  9,  1,  3, 17, 20,  8, 14, 12, 16,  5,\n",
      "        6,  2,  4]), 'split0_train_score': array([0.74453479, 0.73667022, 0.70814449, 0.69781392, 0.66755532,\n",
      "       0.66422287, 0.65395894, 0.64836044, 0.64522794, 0.64362837,\n",
      "       0.74433484, 0.73640363, 0.70494535, 0.69654759, 0.66728872,\n",
      "       0.66475607, 0.65369235, 0.6476273 , 0.64242869, 0.64289523]), 'split1_train_score': array([0.7467342 , 0.74266862, 0.70907758, 0.70154625, 0.67841909,\n",
      "       0.67248734, 0.66282325, 0.65622501, 0.64822714, 0.64562783,\n",
      "       0.74533458, 0.74180219, 0.70747801, 0.69981338, 0.67941882,\n",
      "       0.67242069, 0.66129032, 0.65582511, 0.64756065, 0.64542789]), 'split2_train_score': array([0.7501333 , 0.74453479, 0.7078779 , 0.70561184, 0.67595308,\n",
      "       0.67641962, 0.66189016, 0.65829112, 0.65255932, 0.64689416,\n",
      "       0.74933351, 0.74420155, 0.70874433, 0.70621168, 0.67555319,\n",
      "       0.67568648, 0.6593575 , 0.65909091, 0.65229272, 0.64809384]), 'split3_train_score': array([0.75409836, 0.74463548, 0.70938291, 0.69725443, 0.67326403,\n",
      "       0.66460083, 0.65747035, 0.65120618, 0.64580834, 0.6414101 ,\n",
      "       0.75236572, 0.74463548, 0.70951619, 0.69958683, 0.67446355,\n",
      "       0.66440091, 0.65740371, 0.65200586, 0.64520858, 0.64180994]), 'split4_train_score': array([0.748501  , 0.74217189, 0.70952698, 0.70246502, 0.67614923,\n",
      "       0.67534977, 0.65882745, 0.66302465, 0.64830113, 0.65223185,\n",
      "       0.74696869, 0.74290473, 0.70699534, 0.7023984 , 0.67594937,\n",
      "       0.67668221, 0.65756163, 0.66115923, 0.6491006 , 0.65189873]), 'mean_train_score': array([0.74880033, 0.7421362 , 0.70880197, 0.70093829, 0.67426815,\n",
      "       0.67061609, 0.65899403, 0.65542148, 0.64802477, 0.64595846,\n",
      "       0.74766747, 0.74198951, 0.70753584, 0.70091158, 0.67453473,\n",
      "       0.67078927, 0.6578611 , 0.65514168, 0.64731825, 0.64602513]), 'std_train_score': array([0.00323726, 0.00290384, 0.00066712, 0.00309435, 0.00373304,\n",
      "       0.00522775, 0.00318597, 0.00518297, 0.00258512, 0.00364574,\n",
      "       0.00289435, 0.00296544, 0.00157406, 0.00323441, 0.00398503,\n",
      "       0.00526463, 0.00251699, 0.00486978, 0.00335677, 0.00365239])}\n"
     ]
    }
   ],
   "source": [
    "from sklearn.model_selection import GridSearchCV\n",
    "parameters= {'leaf_size':[30,100],'n_neighbors':[3,4,7,9,11],'p':[1.0,2.0]}\n",
    "best_estimator = GridSearchCV(estimator,param_grid = parameters, cv = 5)\n",
    "best_estimator.fit(X_train, y_train)\n",
    "print(best_estimator.cv_results_)"
   ]
  },
  {
   "cell_type": "code",
   "execution_count": 26,
   "metadata": {},
   "outputs": [
    {
     "name": "stdout",
     "output_type": "stream",
     "text": [
      "0.5677880258036999\n"
     ]
    }
   ],
   "source": [
    "print(best_estimator.best_score_)"
   ]
  },
  {
   "cell_type": "markdown",
   "metadata": {},
   "source": [
    "Doesn't look like we can make it anymore accurate"
   ]
  },
  {
   "cell_type": "code",
   "execution_count": 25,
   "metadata": {},
   "outputs": [
    {
     "name": "stdout",
     "output_type": "stream",
     "text": [
      "The accuracy is 54.2%\n"
     ]
    }
   ],
   "source": [
    "y_predicted = estimator.predict(X_test)\n",
    "\n",
    "#test the accuracy\n",
    "accuracy = np.mean(y_test == y_predicted) *100\n",
    "print(\"The accuracy is {0:.1f}%\".format(accuracy))"
   ]
  },
  {
   "cell_type": "markdown",
   "metadata": {},
   "source": [
    "The accuracy is not very good. I think there are too many variables to deal with."
   ]
  },
  {
   "cell_type": "code",
   "execution_count": 24,
   "metadata": {},
   "outputs": [
    {
     "name": "stderr",
     "output_type": "stream",
     "text": [
      "C:\\Users\\KCast_000\\Miniconda3\\lib\\site-packages\\sklearn\\model_selection\\_split.py:2053: FutureWarning: You should specify a value for 'cv' instead of relying on the default value. The default value will change from 3 to 5 in version 0.22.\n",
      "  warnings.warn(CV_WARNING, FutureWarning)\n"
     ]
    },
    {
     "name": "stdout",
     "output_type": "stream",
     "text": [
      "The accuracy is 54.4%\n"
     ]
    }
   ],
   "source": [
    "from sklearn.model_selection import cross_val_score\n",
    "scores = cross_val_score(estimator, X, Y, scoring = 'accuracy')\n",
    "average_accuracy = np.mean(scores)*100\n",
    "print(\"The accuracy is {0:.1f}%\".format(average_accuracy))"
   ]
  },
  {
   "cell_type": "markdown",
   "metadata": {},
   "source": [
    "The accuracy is still not very good."
   ]
  },
  {
   "cell_type": "code",
   "execution_count": 27,
   "metadata": {},
   "outputs": [],
   "source": [
    "import warnings\n",
    "warnings.filterwarnings('ignore')\n",
    "\n",
    "avg_scores = []\n",
    "all_scores = []\n",
    "parameters = list(range(1,20))\n",
    "for n_neighbors in parameters:\n",
    "    estimator = KNeighborsClassifier()\n",
    "    scores = cross_val_score(estimator, X, Y, scoring = 'accuracy')\n",
    "    avg_scores.append(np.mean(scores))\n",
    "    all_scores.append(scores)"
   ]
  },
  {
   "cell_type": "code",
   "execution_count": 28,
   "metadata": {},
   "outputs": [
    {
     "data": {
      "image/png": "[encoded data removed]",
      "text/plain": [
       "<Figure size 432x288 with 1 Axes>"
      ]
     },
     "metadata": {},
     "output_type": "display_data"
    }
   ],
   "source": [
    "%matplotlib inline\n",
    "\n",
    "import matplotlib.pyplot as plt\n",
    "plt.plot(parameters, avg_scores, '-o')\n",
    "plt.xlabel('N-Neighbour')\n",
    "plt.ylabel('Accuracy')\n",
    "plt.ylim([0.5,1.0])\n",
    "\n",
    "plt.show()"
   ]
  },
  {
   "cell_type": "code",
   "execution_count": null,
   "metadata": {},
   "outputs": [],
   "source": []
  }
 ],
 "metadata": {
  "kernelspec": {
   "display_name": "Python 3",
   "language": "python",
   "name": "python3"
  },
  "language_info": {
   "codemirror_mode": {
    "name": "ipython",
    "version": 3
   },
   "file_extension": ".py",
   "mimetype": "text/x-python",
   "name": "python",
   "nbconvert_exporter": "python",
   "pygments_lexer": "ipython3",
   "version": "3.6.5"
  }
 },
 "nbformat": 4,
 "nbformat_minor": 2
}
