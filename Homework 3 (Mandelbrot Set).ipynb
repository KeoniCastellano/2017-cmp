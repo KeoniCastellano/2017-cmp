{
 "cells": [
  {
   "cell_type": "code",
   "execution_count": 40,
   "metadata": {},
   "outputs": [
    {
     "data": {
      "image/png": "[encoded data removed]",
      "text/plain": [
       "<Figure size 720x720 with 1 Axes>"
      ]
     },
     "metadata": {},
     "output_type": "display_data"
    }
   ],
   "source": [
    "#Keoni Castellano\n",
    "#Homework 3\n",
    "#Mandelbrot Set\n",
    "\n",
    "#This program will create an image of the Mandelbrot set by taking each point on the plane as a complex number and\n",
    "#iterating it, from 0, 1000 times to check if any of its iterates have magnitude greater than 2. \n",
    "#If any iterates have too high a magnitude, the pixel is colored white.\n",
    "#If its iterates stay small, then the pixel is colored black.\n",
    "#This information is entered in a NxN array (N a fixed integer) where it is used to output a graph of the Mandelbrot set.\n",
    "\n",
    "#Input: None\n",
    "#Output: A graphical representation of the Mandelbrot set\n",
    "\n",
    "from numpy import zeros\n",
    "import numpy as np\n",
    "import matplotlib.pyplot as plt\n",
    "\n",
    "#Constant that determines the resolution of the outputted graph\n",
    "N = 1000\n",
    "\n",
    "\n",
    "\n",
    "#This function iterates a complex number from the origin 1000 times to check if any of its iterates have magnitude greater than 2\n",
    "#If it has iterates with magnitude greater than 2, a 1.0 is returned.\n",
    "#If none of its first 1000 iterates have magnitude greater than 2, a 0.0 is returned.\n",
    "#Input: A complex number\n",
    "#Output: A float (either 1.0 or 0.0)\n",
    "def isMandelbrot(c):\n",
    "    #Defines the generating equation for the Mandelbrot set for a given c value\n",
    "    f = lambda z: z*z + c\n",
    "    \n",
    "    #Calculates the first iterate at the origin\n",
    "    x = f(0 + 0j)\n",
    "    \n",
    "    #Checks if the iterates have magnitude greater than 2 and returns the appropriate float number\n",
    "    if abs(x) > 2:\n",
    "        return 1.0\n",
    "    else:\n",
    "        for i in range(999):\n",
    "            x = f(x)\n",
    "            if abs(x) > 2:\n",
    "                return 1.0\n",
    "            else: \n",
    "                i += 1\n",
    "    return 0.0\n",
    "\n",
    "\n",
    "#A blank NxN array that will be filled in to generate the Mandelbrot set\n",
    "MandelSet = zeros([N, N], float)\n",
    "\n",
    "\n",
    "#These generate the complex numbers that are tested for membership in the Mandelbrot set\n",
    "xn = np.linspace(-2, 2, N)\n",
    "yn = np.linspace(-2, 2, N)\n",
    "\n",
    "#This pair of lists together form an index set for the coordinates of the Mandelbrot set array that will be used to actually\n",
    "#graph the Mandelbrot set\n",
    "x = range(N)\n",
    "y = range(N)\n",
    "\n",
    "\n",
    "#At each entry in the Mandelbrot set array, a 1.0 or 0.0 is entered, depending on if the tested complex number is in the \n",
    "#Mandelbrot set or not\n",
    "for m in y:\n",
    "    for n in x:\n",
    "        MandelSet[m, n] = isMandelbrot(xn[n] + yn[m]*1j)\n",
    "\n",
    "        \n",
    "#Output\n",
    "plt.figure(num = 1, figsize = (10,10))\n",
    "plt.axis('off')\n",
    "plt.gray()\n",
    "plt.imshow(MandelSet, origin = \"center\", aspect = 'equal')\n",
    "plt.show()"
   ]
  },
  {
   "cell_type": "code",
   "execution_count": null,
   "metadata": {},
   "outputs": [],
   "source": []
  }
 ],
 "metadata": {
  "kernelspec": {
   "display_name": "Python 3",
   "language": "python",
   "name": "python3"
  },
  "language_info": {
   "codemirror_mode": {
    "name": "ipython",
    "version": 3
   },
   "file_extension": ".py",
   "mimetype": "text/x-python",
   "name": "python",
   "nbconvert_exporter": "python",
   "pygments_lexer": "ipython3",
   "version": "3.6.5"
  }
 },
 "nbformat": 4,
 "nbformat_minor": 2
}
