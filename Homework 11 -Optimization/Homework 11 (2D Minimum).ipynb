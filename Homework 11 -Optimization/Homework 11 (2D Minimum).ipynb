{
 "cells": [
  {
   "cell_type": "code",
   "execution_count": 88,
   "metadata": {},
   "outputs": [],
   "source": [
    "'''\n",
    "Monte Carlo Method for finding Minimum\n",
    "'''\n",
    "import numpy as np\n",
    "import matplotlib.pyplot as plt\n",
    "from numpy import random\n",
    "\n",
    "x_min, y_min = -2.0 , -2.0\n",
    "x_max, y_max = 2.0, 2.0\n",
    "\n",
    "f = lambda x, y: (1/2)*x**2 + (1/4)*y**2\n",
    "\n",
    "a = []\n",
    "def MCMin(N):\n",
    "    for i in range(N):\n",
    "        x0 = x_min + np.random.random()*(x_max - x_min)\n",
    "        y0 = y_min + np.random.random()*(y_max - y_min)\n",
    "        a.append(f(x0,y0))\n",
    "    \n",
    "    minf = min(a)\n",
    "    index = np.argmin(a)\n",
    "    print(\"The minimum of the function is %.5f at x =\"%minf, a[index])"
   ]
  },
  {
   "cell_type": "code",
   "execution_count": 89,
   "metadata": {},
   "outputs": [
    {
     "name": "stdout",
     "output_type": "stream",
     "text": [
      "The minimum of the function is 0.00005 at x = 4.8276194708168984e-05\n"
     ]
    }
   ],
   "source": [
    "MCMin(10000)"
   ]
  },
  {
   "cell_type": "code",
   "execution_count": 96,
   "metadata": {},
   "outputs": [
    {
     "name": "stdout",
     "output_type": "stream",
     "text": [
      "The minimum of the function is 0.00001 at x = 8.68010485619503e-06\n"
     ]
    }
   ],
   "source": [
    "MCMin(10000)"
   ]
  },
  {
   "cell_type": "code",
   "execution_count": 94,
   "metadata": {},
   "outputs": [
    {
     "name": "stdout",
     "output_type": "stream",
     "text": [
      "The minimum of the function is 0.00001 at x = 1.2061007143963357e-05\n"
     ]
    }
   ],
   "source": [
    "MCMin(10000)"
   ]
  },
  {
   "cell_type": "code",
   "execution_count": 108,
   "metadata": {},
   "outputs": [
    {
     "name": "stdout",
     "output_type": "stream",
     "text": [
      "(x_0, y_0):  [-1.30754177 -1.22910337]    converged:  True    Best solution: x= [-0.04782821 -0.05000354] f= 0.0017688573727178449 cycles: 6\n"
     ]
    }
   ],
   "source": [
    "'''\n",
    "Gradient Descent Method for finding Minimum (Variable Step Size)\n",
    "'''\n",
    "\n",
    "#x = np.array([2,4])\n",
    "#y = np.array([3,5])\n",
    "\n",
    "x0 = x_min + np.random.random()*(x_max - x_min)\n",
    "y0 = y_min + np.random.random()*(y_max - y_min)\n",
    "\n",
    "def Gradient(f, x, y, d):\n",
    "    a = (f(x + d, y) - f(x,y))/d\n",
    "    b = (f(x, y + d) - f(x,y))/d\n",
    "    return np.array([a,b])\n",
    "\n",
    "def GradDescent(a, b, N=1000):\n",
    "    x_prev = None\n",
    "    x_now = np.array([a, b])\n",
    "    converged = False\n",
    "    for i in range(N):\n",
    "        if x_prev is None:\n",
    "            d = 0.1\n",
    "        else:\n",
    "            df = Gradient(f,x_now[0],x_now[1],0.1) - Gradient(f, x_prev[0], x_prev[1],0.1)\n",
    "            dx = x_now - x_prev\n",
    "            d = (np.dot(dx, df))/(np.dot(df,df))\n",
    "        x_next = x_now - d * Gradient(f, x_now[0], x_now[1],0.1)\n",
    "        \n",
    "        if f(x_next[0], x_next[1]) < f(x_now[0], x_now[1]):\n",
    "            x_prev = x_now\n",
    "            x_now = x_next\n",
    "\n",
    "        else:\n",
    "            converged = True\n",
    "            break\n",
    "    return converged, x_now, f(x_now[0],x_now[1]), i\n",
    "\n",
    "converged, x_best, f_min, i = GradDescent(x0,y0)\n",
    "print('(x_0, y_0): ', np.array([x0,y0]), '   converged: ', converged, '   Best solution: x=', x_best, 'f=', f_min, 'cycles:', i)"
   ]
  },
  {
   "cell_type": "code",
   "execution_count": 109,
   "metadata": {},
   "outputs": [],
   "source": [
    "x0 = x_min + np.random.random()*(x_max - x_min)\n",
    "y0 = y_min + np.random.random()*(y_max - y_min)"
   ]
  },
  {
   "cell_type": "code",
   "execution_count": 110,
   "metadata": {},
   "outputs": [
    {
     "name": "stdout",
     "output_type": "stream",
     "text": [
      "(x_0, y_0):  [-0.8730016  1.5049037]    converged:  True    Best solution: x= [-0.03506474  0.00377204] f= 0.0006183252395641534 cycles: 4\n"
     ]
    }
   ],
   "source": [
    "converged, x_best, f_min, i = GradDescent(x0,y0)\n",
    "print('(x_0, y_0): ', np.array([x0,y0]), '   converged: ', converged, '   Best solution: x=', x_best, 'f=', f_min, 'cycles:', i)"
   ]
  },
  {
   "cell_type": "code",
   "execution_count": null,
   "metadata": {},
   "outputs": [],
   "source": []
  }
 ],
 "metadata": {
  "kernelspec": {
   "display_name": "Python 3",
   "language": "python",
   "name": "python3"
  },
  "language_info": {
   "codemirror_mode": {
    "name": "ipython",
    "version": 3
   },
   "file_extension": ".py",
   "mimetype": "text/x-python",
   "name": "python",
   "nbconvert_exporter": "python",
   "pygments_lexer": "ipython3",
   "version": "3.6.5"
  }
 },
 "nbformat": 4,
 "nbformat_minor": 2
}
